{
 "cells": [
  {
   "cell_type": "code",
   "id": "4e8acf17-3004-4d5a-bb71-e9977e20611d",
   "metadata": {
    "ExecuteTime": {
     "end_time": "2025-02-20T20:02:01.244527Z",
     "start_time": "2025-02-20T20:01:56.435044Z"
    }
   },
   "source": [
    "import numpy as np # arrays & loading data\n",
    "import tensorflow as tf # library for building models using Neural Networks\n",
    "from tensorflow.keras.models import Sequential  # model type that we will use\n",
    "from tensorflow.keras.layers import Dense # we will use Dense layers\n",
    "\n",
    "# suppress warnings\n",
    "tf.get_logger().setLevel('ERROR')\n",
    "tf.autograph.set_verbosity(0)"
   ],
   "outputs": [],
   "execution_count": 1
  },
  {
   "cell_type": "code",
   "id": "bb62911f-55a6-403d-9ae1-c320367cdcdd",
   "metadata": {
    "ExecuteTime": {
     "end_time": "2025-02-20T20:02:12.116210Z",
     "start_time": "2025-02-20T20:02:12.108359Z"
    }
   },
   "source": [
    "# loading all the data\n",
    "data = np.loadtxt('./diabetes_data.csv', delimiter=',', skiprows=1)\n",
    "print(data)"
   ],
   "outputs": [
    {
     "name": "stdout",
     "output_type": "stream",
     "text": [
      "[[40.  1.  0. ...  1.  1.  1.]\n",
      " [58.  1.  0. ...  1.  0.  1.]\n",
      " [41.  1.  1. ...  1.  0.  1.]\n",
      " ...\n",
      " [58.  0.  1. ...  0.  1.  1.]\n",
      " [32.  0.  0. ...  1.  0.  0.]\n",
      " [42.  1.  0. ...  0.  0.  0.]]\n"
     ]
    }
   ],
   "execution_count": 2
  },
  {
   "cell_type": "code",
   "id": "1949031b-d033-4e0f-a556-f6489b61a094",
   "metadata": {
    "ExecuteTime": {
     "end_time": "2025-02-20T20:02:16.159068Z",
     "start_time": "2025-02-20T20:02:16.153855Z"
    }
   },
   "source": [
    "X = data[:,:-1] # forming the input and output \n",
    "y = data[:,-1]\n",
    "\n",
    "y = np.expand_dims(y, axis=1) # make y 2D - the commands later using Tf will require it\n",
    "print(X[:5])\n",
    "print(y[:5])"
   ],
   "outputs": [
    {
     "name": "stdout",
     "output_type": "stream",
     "text": [
      "[[40.  1.  0.  1.  0.  1.  0.  0.  0.  1.  0.  1.  0.  1.  1.  1.]\n",
      " [58.  1.  0.  0.  0.  1.  0.  0.  1.  0.  0.  0.  1.  0.  1.  0.]\n",
      " [41.  1.  1.  0.  0.  1.  1.  0.  0.  1.  0.  1.  0.  1.  1.  0.]\n",
      " [45.  1.  0.  0.  1.  1.  1.  1.  0.  1.  0.  1.  0.  0.  0.  0.]\n",
      " [60.  1.  1.  1.  1.  1.  1.  0.  1.  1.  1.  1.  1.  1.  1.  1.]]\n",
      "[[1.]\n",
      " [1.]\n",
      " [1.]\n",
      " [1.]\n",
      " [1.]]\n"
     ]
    }
   ],
   "execution_count": 3
  },
  {
   "cell_type": "code",
   "id": "8ef3f9de-7b2a-4456-879b-a31e44b20043",
   "metadata": {
    "ExecuteTime": {
     "end_time": "2025-02-20T20:02:21.378548Z",
     "start_time": "2025-02-20T20:02:20.724281Z"
    }
   },
   "source": [
    "# split into training , cross validation and test sets\n",
    "from sklearn.model_selection import train_test_split \n",
    "\n",
    "# TRAINING SET - 60%\n",
    "X_train, X_temporary, y_train, y_temporary = train_test_split(X, y, test_size=0.40, random_state=1)\n",
    "\n",
    "# the rest of 40% - CV SET(20%) and TEST SET(20%)\n",
    "X_cv, X_test, y_cv, y_test = train_test_split(X_temporary, y_temporary, test_size=0.50, random_state=1)\n",
    "del X_temporary, y_temporary\n",
    "\n",
    "print(f\"training input shape:{X_train.shape}\")\n",
    "print(f\"training output shape:{y_train.shape}\")\n",
    "print(f\"cv input shape:{X_cv.shape}\")\n",
    "print(f\"cv output shape:{y_cv.shape}\")\n",
    "print(f\"test input shape:{X_test.shape}\")\n",
    "print(f\"test output shape:{y_test.shape}\")"
   ],
   "outputs": [
    {
     "name": "stdout",
     "output_type": "stream",
     "text": [
      "training input shape:(312, 16)\n",
      "training output shape:(312, 1)\n",
      "cv input shape:(104, 16)\n",
      "cv output shape:(104, 1)\n",
      "test input shape:(104, 16)\n",
      "test output shape:(104, 1)\n"
     ]
    }
   ],
   "execution_count": 4
  },
  {
   "cell_type": "code",
   "id": "98473a71-5ca4-489f-a14f-2473b43b8e8d",
   "metadata": {
    "ExecuteTime": {
     "end_time": "2025-02-20T20:02:24.926972Z",
     "start_time": "2025-02-20T20:02:24.864164Z"
    }
   },
   "source": [
    "# sequential model structure\n",
    "\n",
    "model= Sequential(\n",
    "    [\n",
    "        tf.keras.Input(shape=(16,)), # input size (each patient has 16 features)\n",
    "        Dense(10,activation=\"sigmoid\", name=\"layer1\"),\n",
    "        Dense(5,activation=\"sigmoid\", name=\"layer2\"),\n",
    "        Dense(1,activation=\"sigmoid\", name=\"layer3\"),\n",
    "    ], name=\"binary_model\"\n",
    ")"
   ],
   "outputs": [],
   "execution_count": 5
  },
  {
   "cell_type": "code",
   "id": "97b767f9-1fc3-421e-aed8-705640b49a82",
   "metadata": {
    "ExecuteTime": {
     "end_time": "2025-02-20T20:02:32.482174Z",
     "start_time": "2025-02-20T20:02:32.462949Z"
    }
   },
   "source": [
    "# see details about the activation of every layer and the form of the w and b parameters\n",
    "model.summary()"
   ],
   "outputs": [
    {
     "data": {
      "text/plain": [
       "\u001B[1mModel: \"binary_model\"\u001B[0m\n"
      ],
      "text/html": [
       "<pre style=\"white-space:pre;overflow-x:auto;line-height:normal;font-family:Menlo,'DejaVu Sans Mono',consolas,'Courier New',monospace\"><span style=\"font-weight: bold\">Model: \"binary_model\"</span>\n",
       "</pre>\n"
      ]
     },
     "metadata": {},
     "output_type": "display_data"
    },
    {
     "data": {
      "text/plain": [
       "┏━━━━━━━━━━━━━━━━━━━━━━━━━━━━━━━━━┳━━━━━━━━━━━━━━━━━━━━━━━━┳━━━━━━━━━━━━━━━┓\n",
       "┃\u001B[1m \u001B[0m\u001B[1mLayer (type)                   \u001B[0m\u001B[1m \u001B[0m┃\u001B[1m \u001B[0m\u001B[1mOutput Shape          \u001B[0m\u001B[1m \u001B[0m┃\u001B[1m \u001B[0m\u001B[1m      Param #\u001B[0m\u001B[1m \u001B[0m┃\n",
       "┡━━━━━━━━━━━━━━━━━━━━━━━━━━━━━━━━━╇━━━━━━━━━━━━━━━━━━━━━━━━╇━━━━━━━━━━━━━━━┩\n",
       "│ layer1 (\u001B[38;5;33mDense\u001B[0m)                  │ (\u001B[38;5;45mNone\u001B[0m, \u001B[38;5;34m10\u001B[0m)             │           \u001B[38;5;34m170\u001B[0m │\n",
       "├─────────────────────────────────┼────────────────────────┼───────────────┤\n",
       "│ layer2 (\u001B[38;5;33mDense\u001B[0m)                  │ (\u001B[38;5;45mNone\u001B[0m, \u001B[38;5;34m5\u001B[0m)              │            \u001B[38;5;34m55\u001B[0m │\n",
       "├─────────────────────────────────┼────────────────────────┼───────────────┤\n",
       "│ layer3 (\u001B[38;5;33mDense\u001B[0m)                  │ (\u001B[38;5;45mNone\u001B[0m, \u001B[38;5;34m1\u001B[0m)              │             \u001B[38;5;34m6\u001B[0m │\n",
       "└─────────────────────────────────┴────────────────────────┴───────────────┘\n"
      ],
      "text/html": [
       "<pre style=\"white-space:pre;overflow-x:auto;line-height:normal;font-family:Menlo,'DejaVu Sans Mono',consolas,'Courier New',monospace\">┏━━━━━━━━━━━━━━━━━━━━━━━━━━━━━━━━━┳━━━━━━━━━━━━━━━━━━━━━━━━┳━━━━━━━━━━━━━━━┓\n",
       "┃<span style=\"font-weight: bold\"> Layer (type)                    </span>┃<span style=\"font-weight: bold\"> Output Shape           </span>┃<span style=\"font-weight: bold\">       Param # </span>┃\n",
       "┡━━━━━━━━━━━━━━━━━━━━━━━━━━━━━━━━━╇━━━━━━━━━━━━━━━━━━━━━━━━╇━━━━━━━━━━━━━━━┩\n",
       "│ layer1 (<span style=\"color: #0087ff; text-decoration-color: #0087ff\">Dense</span>)                  │ (<span style=\"color: #00d7ff; text-decoration-color: #00d7ff\">None</span>, <span style=\"color: #00af00; text-decoration-color: #00af00\">10</span>)             │           <span style=\"color: #00af00; text-decoration-color: #00af00\">170</span> │\n",
       "├─────────────────────────────────┼────────────────────────┼───────────────┤\n",
       "│ layer2 (<span style=\"color: #0087ff; text-decoration-color: #0087ff\">Dense</span>)                  │ (<span style=\"color: #00d7ff; text-decoration-color: #00d7ff\">None</span>, <span style=\"color: #00af00; text-decoration-color: #00af00\">5</span>)              │            <span style=\"color: #00af00; text-decoration-color: #00af00\">55</span> │\n",
       "├─────────────────────────────────┼────────────────────────┼───────────────┤\n",
       "│ layer3 (<span style=\"color: #0087ff; text-decoration-color: #0087ff\">Dense</span>)                  │ (<span style=\"color: #00d7ff; text-decoration-color: #00d7ff\">None</span>, <span style=\"color: #00af00; text-decoration-color: #00af00\">1</span>)              │             <span style=\"color: #00af00; text-decoration-color: #00af00\">6</span> │\n",
       "└─────────────────────────────────┴────────────────────────┴───────────────┘\n",
       "</pre>\n"
      ]
     },
     "metadata": {},
     "output_type": "display_data"
    },
    {
     "data": {
      "text/plain": [
       "\u001B[1m Total params: \u001B[0m\u001B[38;5;34m231\u001B[0m (924.00 B)\n"
      ],
      "text/html": [
       "<pre style=\"white-space:pre;overflow-x:auto;line-height:normal;font-family:Menlo,'DejaVu Sans Mono',consolas,'Courier New',monospace\"><span style=\"font-weight: bold\"> Total params: </span><span style=\"color: #00af00; text-decoration-color: #00af00\">231</span> (924.00 B)\n",
       "</pre>\n"
      ]
     },
     "metadata": {},
     "output_type": "display_data"
    },
    {
     "data": {
      "text/plain": [
       "\u001B[1m Trainable params: \u001B[0m\u001B[38;5;34m231\u001B[0m (924.00 B)\n"
      ],
      "text/html": [
       "<pre style=\"white-space:pre;overflow-x:auto;line-height:normal;font-family:Menlo,'DejaVu Sans Mono',consolas,'Courier New',monospace\"><span style=\"font-weight: bold\"> Trainable params: </span><span style=\"color: #00af00; text-decoration-color: #00af00\">231</span> (924.00 B)\n",
       "</pre>\n"
      ]
     },
     "metadata": {},
     "output_type": "display_data"
    },
    {
     "data": {
      "text/plain": [
       "\u001B[1m Non-trainable params: \u001B[0m\u001B[38;5;34m0\u001B[0m (0.00 B)\n"
      ],
      "text/html": [
       "<pre style=\"white-space:pre;overflow-x:auto;line-height:normal;font-family:Menlo,'DejaVu Sans Mono',consolas,'Courier New',monospace\"><span style=\"font-weight: bold\"> Non-trainable params: </span><span style=\"color: #00af00; text-decoration-color: #00af00\">0</span> (0.00 B)\n",
       "</pre>\n"
      ]
     },
     "metadata": {},
     "output_type": "display_data"
    }
   ],
   "execution_count": 6
  },
  {
   "cell_type": "code",
   "id": "0ba31688-edb8-4610-957c-5bb1b8282a34",
   "metadata": {
    "ExecuteTime": {
     "end_time": "2025-02-20T20:02:36.878746Z",
     "start_time": "2025-02-20T20:02:36.866271Z"
    }
   },
   "source": [
    "\n",
    "# define loss and optimizer of the Adam's algorithm\n",
    "model.compile(\n",
    "    # this is similar to gradient descent, but it is a much improved version\n",
    "    loss=tf.keras.losses.BinaryCrossentropy(), # BC - binary class \n",
    "    optimizer=tf.keras.optimizers.Adam(0.02), # preimplemented optimizer\n",
    ")"
   ],
   "outputs": [],
   "execution_count": 7
  },
  {
   "cell_type": "code",
   "id": "0f39f0e6-1748-4474-9d1d-678301be12b5",
   "metadata": {
    "ExecuteTime": {
     "end_time": "2025-02-20T20:02:42.015022Z",
     "start_time": "2025-02-20T20:02:38.153362Z"
    }
   },
   "source": [
    "# train the model \"epochs\" times\n",
    "model.fit(\n",
    "    X_train, y_train,\n",
    "    epochs = 54,\n",
    ")"
   ],
   "outputs": [
    {
     "name": "stdout",
     "output_type": "stream",
     "text": [
      "Epoch 1/54\n",
      "\u001B[1m10/10\u001B[0m \u001B[32m━━━━━━━━━━━━━━━━━━━━\u001B[0m\u001B[37m\u001B[0m \u001B[1m1s\u001B[0m 3ms/step - loss: 0.6536  \n",
      "Epoch 2/54\n",
      "\u001B[1m10/10\u001B[0m \u001B[32m━━━━━━━━━━━━━━━━━━━━\u001B[0m\u001B[37m\u001B[0m \u001B[1m0s\u001B[0m 3ms/step - loss: 0.6458 \n",
      "Epoch 3/54\n",
      "\u001B[1m10/10\u001B[0m \u001B[32m━━━━━━━━━━━━━━━━━━━━\u001B[0m\u001B[37m\u001B[0m \u001B[1m0s\u001B[0m 3ms/step - loss: 0.5871 \n",
      "Epoch 4/54\n",
      "\u001B[1m10/10\u001B[0m \u001B[32m━━━━━━━━━━━━━━━━━━━━\u001B[0m\u001B[37m\u001B[0m \u001B[1m0s\u001B[0m 3ms/step - loss: 0.5058 \n",
      "Epoch 5/54\n",
      "\u001B[1m10/10\u001B[0m \u001B[32m━━━━━━━━━━━━━━━━━━━━\u001B[0m\u001B[37m\u001B[0m \u001B[1m0s\u001B[0m 3ms/step - loss: 0.3821 \n",
      "Epoch 6/54\n",
      "\u001B[1m10/10\u001B[0m \u001B[32m━━━━━━━━━━━━━━━━━━━━\u001B[0m\u001B[37m\u001B[0m \u001B[1m0s\u001B[0m 3ms/step - loss: 0.3678 \n",
      "Epoch 7/54\n",
      "\u001B[1m10/10\u001B[0m \u001B[32m━━━━━━━━━━━━━━━━━━━━\u001B[0m\u001B[37m\u001B[0m \u001B[1m0s\u001B[0m 3ms/step - loss: 0.2724 \n",
      "Epoch 8/54\n",
      "\u001B[1m10/10\u001B[0m \u001B[32m━━━━━━━━━━━━━━━━━━━━\u001B[0m\u001B[37m\u001B[0m \u001B[1m0s\u001B[0m 3ms/step - loss: 0.2606 \n",
      "Epoch 9/54\n",
      "\u001B[1m10/10\u001B[0m \u001B[32m━━━━━━━━━━━━━━━━━━━━\u001B[0m\u001B[37m\u001B[0m \u001B[1m0s\u001B[0m 3ms/step - loss: 0.2244 \n",
      "Epoch 10/54\n",
      "\u001B[1m10/10\u001B[0m \u001B[32m━━━━━━━━━━━━━━━━━━━━\u001B[0m\u001B[37m\u001B[0m \u001B[1m0s\u001B[0m 3ms/step - loss: 0.2390 \n",
      "Epoch 11/54\n",
      "\u001B[1m10/10\u001B[0m \u001B[32m━━━━━━━━━━━━━━━━━━━━\u001B[0m\u001B[37m\u001B[0m \u001B[1m0s\u001B[0m 2ms/step - loss: 0.2472 \n",
      "Epoch 12/54\n",
      "\u001B[1m10/10\u001B[0m \u001B[32m━━━━━━━━━━━━━━━━━━━━\u001B[0m\u001B[37m\u001B[0m \u001B[1m0s\u001B[0m 3ms/step - loss: 0.2094 \n",
      "Epoch 13/54\n",
      "\u001B[1m10/10\u001B[0m \u001B[32m━━━━━━━━━━━━━━━━━━━━\u001B[0m\u001B[37m\u001B[0m \u001B[1m0s\u001B[0m 2ms/step - loss: 0.2723 \n",
      "Epoch 14/54\n",
      "\u001B[1m10/10\u001B[0m \u001B[32m━━━━━━━━━━━━━━━━━━━━\u001B[0m\u001B[37m\u001B[0m \u001B[1m0s\u001B[0m 3ms/step - loss: 0.2021 \n",
      "Epoch 15/54\n",
      "\u001B[1m10/10\u001B[0m \u001B[32m━━━━━━━━━━━━━━━━━━━━\u001B[0m\u001B[37m\u001B[0m \u001B[1m0s\u001B[0m 3ms/step - loss: 0.1783 \n",
      "Epoch 16/54\n",
      "\u001B[1m10/10\u001B[0m \u001B[32m━━━━━━━━━━━━━━━━━━━━\u001B[0m\u001B[37m\u001B[0m \u001B[1m0s\u001B[0m 3ms/step - loss: 0.1810 \n",
      "Epoch 17/54\n",
      "\u001B[1m10/10\u001B[0m \u001B[32m━━━━━━━━━━━━━━━━━━━━\u001B[0m\u001B[37m\u001B[0m \u001B[1m0s\u001B[0m 3ms/step - loss: 0.1584 \n",
      "Epoch 18/54\n",
      "\u001B[1m10/10\u001B[0m \u001B[32m━━━━━━━━━━━━━━━━━━━━\u001B[0m\u001B[37m\u001B[0m \u001B[1m0s\u001B[0m 3ms/step - loss: 0.1791 \n",
      "Epoch 19/54\n",
      "\u001B[1m10/10\u001B[0m \u001B[32m━━━━━━━━━━━━━━━━━━━━\u001B[0m\u001B[37m\u001B[0m \u001B[1m0s\u001B[0m 3ms/step - loss: 0.1912 \n",
      "Epoch 20/54\n",
      "\u001B[1m10/10\u001B[0m \u001B[32m━━━━━━━━━━━━━━━━━━━━\u001B[0m\u001B[37m\u001B[0m \u001B[1m0s\u001B[0m 3ms/step - loss: 0.1801 \n",
      "Epoch 21/54\n",
      "\u001B[1m10/10\u001B[0m \u001B[32m━━━━━━━━━━━━━━━━━━━━\u001B[0m\u001B[37m\u001B[0m \u001B[1m0s\u001B[0m 3ms/step - loss: 0.1837 \n",
      "Epoch 22/54\n",
      "\u001B[1m10/10\u001B[0m \u001B[32m━━━━━━━━━━━━━━━━━━━━\u001B[0m\u001B[37m\u001B[0m \u001B[1m0s\u001B[0m 3ms/step - loss: 0.1581 \n",
      "Epoch 23/54\n",
      "\u001B[1m10/10\u001B[0m \u001B[32m━━━━━━━━━━━━━━━━━━━━\u001B[0m\u001B[37m\u001B[0m \u001B[1m0s\u001B[0m 3ms/step - loss: 0.1870 \n",
      "Epoch 24/54\n",
      "\u001B[1m10/10\u001B[0m \u001B[32m━━━━━━━━━━━━━━━━━━━━\u001B[0m\u001B[37m\u001B[0m \u001B[1m0s\u001B[0m 3ms/step - loss: 0.2091 \n",
      "Epoch 25/54\n",
      "\u001B[1m10/10\u001B[0m \u001B[32m━━━━━━━━━━━━━━━━━━━━\u001B[0m\u001B[37m\u001B[0m \u001B[1m0s\u001B[0m 3ms/step - loss: 0.1541 \n",
      "Epoch 26/54\n",
      "\u001B[1m10/10\u001B[0m \u001B[32m━━━━━━━━━━━━━━━━━━━━\u001B[0m\u001B[37m\u001B[0m \u001B[1m0s\u001B[0m 3ms/step - loss: 0.1695 \n",
      "Epoch 27/54\n",
      "\u001B[1m10/10\u001B[0m \u001B[32m━━━━━━━━━━━━━━━━━━━━\u001B[0m\u001B[37m\u001B[0m \u001B[1m0s\u001B[0m 3ms/step - loss: 0.2184 \n",
      "Epoch 28/54\n",
      "\u001B[1m10/10\u001B[0m \u001B[32m━━━━━━━━━━━━━━━━━━━━\u001B[0m\u001B[37m\u001B[0m \u001B[1m0s\u001B[0m 3ms/step - loss: 0.1356 \n",
      "Epoch 29/54\n",
      "\u001B[1m10/10\u001B[0m \u001B[32m━━━━━━━━━━━━━━━━━━━━\u001B[0m\u001B[37m\u001B[0m \u001B[1m0s\u001B[0m 3ms/step - loss: 0.1403 \n",
      "Epoch 30/54\n",
      "\u001B[1m10/10\u001B[0m \u001B[32m━━━━━━━━━━━━━━━━━━━━\u001B[0m\u001B[37m\u001B[0m \u001B[1m0s\u001B[0m 3ms/step - loss: 0.1355 \n",
      "Epoch 31/54\n",
      "\u001B[1m10/10\u001B[0m \u001B[32m━━━━━━━━━━━━━━━━━━━━\u001B[0m\u001B[37m\u001B[0m \u001B[1m0s\u001B[0m 3ms/step - loss: 0.1462 \n",
      "Epoch 32/54\n",
      "\u001B[1m10/10\u001B[0m \u001B[32m━━━━━━━━━━━━━━━━━━━━\u001B[0m\u001B[37m\u001B[0m \u001B[1m0s\u001B[0m 3ms/step - loss: 0.1589 \n",
      "Epoch 33/54\n",
      "\u001B[1m10/10\u001B[0m \u001B[32m━━━━━━━━━━━━━━━━━━━━\u001B[0m\u001B[37m\u001B[0m \u001B[1m0s\u001B[0m 3ms/step - loss: 0.1465 \n",
      "Epoch 34/54\n",
      "\u001B[1m10/10\u001B[0m \u001B[32m━━━━━━━━━━━━━━━━━━━━\u001B[0m\u001B[37m\u001B[0m \u001B[1m0s\u001B[0m 4ms/step - loss: 0.1588 \n",
      "Epoch 35/54\n",
      "\u001B[1m10/10\u001B[0m \u001B[32m━━━━━━━━━━━━━━━━━━━━\u001B[0m\u001B[37m\u001B[0m \u001B[1m0s\u001B[0m 3ms/step - loss: 0.1570 \n",
      "Epoch 36/54\n",
      "\u001B[1m10/10\u001B[0m \u001B[32m━━━━━━━━━━━━━━━━━━━━\u001B[0m\u001B[37m\u001B[0m \u001B[1m0s\u001B[0m 3ms/step - loss: 0.1928 \n",
      "Epoch 37/54\n",
      "\u001B[1m10/10\u001B[0m \u001B[32m━━━━━━━━━━━━━━━━━━━━\u001B[0m\u001B[37m\u001B[0m \u001B[1m0s\u001B[0m 3ms/step - loss: 0.1471 \n",
      "Epoch 38/54\n",
      "\u001B[1m10/10\u001B[0m \u001B[32m━━━━━━━━━━━━━━━━━━━━\u001B[0m\u001B[37m\u001B[0m \u001B[1m0s\u001B[0m 3ms/step - loss: 0.1138 \n",
      "Epoch 39/54\n",
      "\u001B[1m10/10\u001B[0m \u001B[32m━━━━━━━━━━━━━━━━━━━━\u001B[0m\u001B[37m\u001B[0m \u001B[1m0s\u001B[0m 3ms/step - loss: 0.1662 \n",
      "Epoch 40/54\n",
      "\u001B[1m10/10\u001B[0m \u001B[32m━━━━━━━━━━━━━━━━━━━━\u001B[0m\u001B[37m\u001B[0m \u001B[1m0s\u001B[0m 3ms/step - loss: 0.1602 \n",
      "Epoch 41/54\n",
      "\u001B[1m10/10\u001B[0m \u001B[32m━━━━━━━━━━━━━━━━━━━━\u001B[0m\u001B[37m\u001B[0m \u001B[1m0s\u001B[0m 3ms/step - loss: 0.1314 \n",
      "Epoch 42/54\n",
      "\u001B[1m10/10\u001B[0m \u001B[32m━━━━━━━━━━━━━━━━━━━━\u001B[0m\u001B[37m\u001B[0m \u001B[1m0s\u001B[0m 3ms/step - loss: 0.1112 \n",
      "Epoch 43/54\n",
      "\u001B[1m10/10\u001B[0m \u001B[32m━━━━━━━━━━━━━━━━━━━━\u001B[0m\u001B[37m\u001B[0m \u001B[1m0s\u001B[0m 3ms/step - loss: 0.1682 \n",
      "Epoch 44/54\n",
      "\u001B[1m10/10\u001B[0m \u001B[32m━━━━━━━━━━━━━━━━━━━━\u001B[0m\u001B[37m\u001B[0m \u001B[1m0s\u001B[0m 3ms/step - loss: 0.0946 \n",
      "Epoch 45/54\n",
      "\u001B[1m10/10\u001B[0m \u001B[32m━━━━━━━━━━━━━━━━━━━━\u001B[0m\u001B[37m\u001B[0m \u001B[1m0s\u001B[0m 3ms/step - loss: 0.1317 \n",
      "Epoch 46/54\n",
      "\u001B[1m10/10\u001B[0m \u001B[32m━━━━━━━━━━━━━━━━━━━━\u001B[0m\u001B[37m\u001B[0m \u001B[1m0s\u001B[0m 3ms/step - loss: 0.0837 \n",
      "Epoch 47/54\n",
      "\u001B[1m10/10\u001B[0m \u001B[32m━━━━━━━━━━━━━━━━━━━━\u001B[0m\u001B[37m\u001B[0m \u001B[1m0s\u001B[0m 3ms/step - loss: 0.1141 \n",
      "Epoch 48/54\n",
      "\u001B[1m10/10\u001B[0m \u001B[32m━━━━━━━━━━━━━━━━━━━━\u001B[0m\u001B[37m\u001B[0m \u001B[1m0s\u001B[0m 3ms/step - loss: 0.1149 \n",
      "Epoch 49/54\n",
      "\u001B[1m10/10\u001B[0m \u001B[32m━━━━━━━━━━━━━━━━━━━━\u001B[0m\u001B[37m\u001B[0m \u001B[1m0s\u001B[0m 6ms/step - loss: 0.1130 \n",
      "Epoch 50/54\n",
      "\u001B[1m10/10\u001B[0m \u001B[32m━━━━━━━━━━━━━━━━━━━━\u001B[0m\u001B[37m\u001B[0m \u001B[1m0s\u001B[0m 3ms/step - loss: 0.1159 \n",
      "Epoch 51/54\n",
      "\u001B[1m10/10\u001B[0m \u001B[32m━━━━━━━━━━━━━━━━━━━━\u001B[0m\u001B[37m\u001B[0m \u001B[1m0s\u001B[0m 3ms/step - loss: 0.0960 \n",
      "Epoch 52/54\n",
      "\u001B[1m10/10\u001B[0m \u001B[32m━━━━━━━━━━━━━━━━━━━━\u001B[0m\u001B[37m\u001B[0m \u001B[1m0s\u001B[0m 3ms/step - loss: 0.0801 \n",
      "Epoch 53/54\n",
      "\u001B[1m10/10\u001B[0m \u001B[32m━━━━━━━━━━━━━━━━━━━━\u001B[0m\u001B[37m\u001B[0m \u001B[1m0s\u001B[0m 3ms/step - loss: 0.0935 \n",
      "Epoch 54/54\n",
      "\u001B[1m10/10\u001B[0m \u001B[32m━━━━━━━━━━━━━━━━━━━━\u001B[0m\u001B[37m\u001B[0m \u001B[1m0s\u001B[0m 4ms/step - loss: 0.0807 \n"
     ]
    },
    {
     "data": {
      "text/plain": [
       "<keras.src.callbacks.history.History at 0x24a55edf170>"
      ]
     },
     "execution_count": 8,
     "metadata": {},
     "output_type": "execute_result"
    }
   ],
   "execution_count": 8
  },
  {
   "cell_type": "code",
   "id": "4043fc24-2e2e-40a7-8c7e-51e4d9b3f591",
   "metadata": {
    "ExecuteTime": {
     "end_time": "2025-02-20T20:03:17.304960Z",
     "start_time": "2025-02-20T20:03:17.082573Z"
    }
   },
   "source": [
    "# fraction of misclassified outputs in the TRAINING SET\n",
    "y_predicted = model.predict(X_train)\n",
    "# classic way of calculating the error in a classification case\n",
    "y_predicted = np.where(y_predicted>=0.5,1,0)\n",
    "error_training = np.mean(y_predicted != y_train) # arithmetic mean, where the numerator is the count of wrong predictions\n",
    "print(f\"Training Set Classification Error: {error_training}\")\n",
    "\n",
    "# do the same for CV set\n",
    "y_predicted = model.predict(X_cv)\n",
    "y_predicted = np.where(y_predicted>=0.5,1,0)\n",
    "error_cv = np.mean(y_predicted != y_cv) \n",
    "print(f\"CV Set Classification Error: {error_cv}\")"
   ],
   "outputs": [
    {
     "name": "stdout",
     "output_type": "stream",
     "text": [
      "\u001B[1m10/10\u001B[0m \u001B[32m━━━━━━━━━━━━━━━━━━━━\u001B[0m\u001B[37m\u001B[0m \u001B[1m0s\u001B[0m 5ms/step \n",
      "Training Set Classification Error: 0.028846153846153848\n",
      "\u001B[1m4/4\u001B[0m \u001B[32m━━━━━━━━━━━━━━━━━━━━\u001B[0m\u001B[37m\u001B[0m \u001B[1m0s\u001B[0m 7ms/step \n",
      "CV Set Classification Error: 0.11538461538461539\n"
     ]
    }
   ],
   "execution_count": 9
  },
  {
   "cell_type": "code",
   "id": "aa45a9de-49fe-43ed-b2c5-139ab67884ed",
   "metadata": {
    "ExecuteTime": {
     "end_time": "2025-02-20T20:03:34.013380Z",
     "start_time": "2025-02-20T20:03:33.934593Z"
    }
   },
   "source": [
    "# do the same for TEST set - publish test error\n",
    "y_predicted = model.predict(X_test)\n",
    "y_predicted = np.where(y_predicted>=0.5,1,0)\n",
    "error_test = np.mean(y_predicted != y_test) \n",
    "print(f\"TEST Set Classification Error: {error_test}\")"
   ],
   "outputs": [
    {
     "name": "stdout",
     "output_type": "stream",
     "text": [
      "\u001B[1m4/4\u001B[0m \u001B[32m━━━━━━━━━━━━━━━━━━━━\u001B[0m\u001B[37m\u001B[0m \u001B[1m0s\u001B[0m 6ms/step \n",
      "TEST Set Classification Error: 0.04807692307692308\n"
     ]
    }
   ],
   "execution_count": 10
  },
  {
   "cell_type": "code",
   "id": "ad574923-dddf-4969-9700-2aa46a44b3f4",
   "metadata": {
    "ExecuteTime": {
     "end_time": "2025-02-20T20:04:51.767397Z",
     "start_time": "2025-02-20T20:04:17.487478Z"
    }
   },
   "source": [
    "# user interaction\n",
    "age = int(input(\"age :\"))\n",
    "male = int(input(\"male (1/0) :\"))\n",
    "polyuria = int(input(\"polyuria (1/0) :\"))\n",
    "polydipsia = int(input(\"polydipsia (1/0) :\"))\n",
    "sudden_weight_loss = int(input(\"sudden_weight_loss (1/0) :\"))\n",
    "\n",
    "weakness = int(input(\"weakness (1/0) :\"))\n",
    "polyphagia = int(input(\"polyphagia (1/0) :\"))\n",
    "genital_thrush = int(input(\"genital_thrush (1/0) :\"))\n",
    "visual_blurring = int(input(\"visual_blurring (1/0) :\"))\n",
    "itching = int(input(\"itching (1/0) :\"))\n",
    "\n",
    "irritability = int(input(\"irritability (1/0) :\"))\n",
    "delayed_healing = int(input(\"delayed_healing (1/0) :\"))\n",
    "partial_paresis = int(input(\"partial_paresis (1/0) :\"))\n",
    "muscle_stiffness = int(input(\"muscle_stiffness (1/0) :\"))\n",
    "alopecia = int(input(\"alopecia (1/0) :\"))\n",
    "obesity = int(input(\"obesity (1/0) :\"))\n",
    "\n",
    "x_user = np.array([[age,male, polyuria\t,polydipsia\t,sudden_weight_loss\t,weakness\t,polyphagia,\tgenital_thrush\t,visual_blurring\t,itching\t,irritability\t,delayed_healing\t,partial_paresis\t,muscle_stiffness\t,alopecia,\tobesity\n",
    "]]) # we need a 2D array \n",
    "y_predicted = model.predict(x_user)\n",
    "y_predicted = np.where(y_predicted>=0.5,1,0)       # form the output as before\n",
    "\n",
    "if y_predicted[0] >= 0.5:                            # having just one patient, we need only the first element of Tensor Array\n",
    "    print(\"Diabetes is likely to appear.\")\n",
    "else:\n",
    "     print(\"Diabetes is unlikely to appear.\")"
   ],
   "outputs": [
    {
     "name": "stdout",
     "output_type": "stream",
     "text": [
      "\u001B[1m1/1\u001B[0m \u001B[32m━━━━━━━━━━━━━━━━━━━━\u001B[0m\u001B[37m\u001B[0m \u001B[1m0s\u001B[0m 56ms/step\n",
      "Diabetes is unlikely to appear.\n"
     ]
    }
   ],
   "execution_count": 12
  },
  {
   "cell_type": "code",
   "execution_count": null,
   "id": "560f3fe9-93ab-430f-956a-b60610214207",
   "metadata": {},
   "outputs": [],
   "source": []
  }
 ],
 "metadata": {
  "kernelspec": {
   "display_name": "Python 3 (ipykernel)",
   "language": "python",
   "name": "python3"
  },
  "language_info": {
   "codemirror_mode": {
    "name": "ipython",
    "version": 3
   },
   "file_extension": ".py",
   "mimetype": "text/x-python",
   "name": "python",
   "nbconvert_exporter": "python",
   "pygments_lexer": "ipython3",
   "version": "3.12.0"
  }
 },
 "nbformat": 4,
 "nbformat_minor": 5
}
